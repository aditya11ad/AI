{
 "cells": [
  {
   "cell_type": "markdown",
   "metadata": {},
   "source": [
    "# Regression_Housing_ANN(MLP)"
   ]
  },
  {
   "cell_type": "code",
   "execution_count": 1,
   "metadata": {},
   "outputs": [],
   "source": [
    "from sklearn.datasets import fetch_california_housing\n",
    "from sklearn.model_selection import train_test_split\n",
    "from sklearn.preprocessing import StandardScaler"
   ]
  },
  {
   "cell_type": "code",
   "execution_count": 2,
   "metadata": {},
   "outputs": [],
   "source": [
    "housing = fetch_california_housing()"
   ]
  },
  {
   "cell_type": "code",
   "execution_count": 3,
   "metadata": {},
   "outputs": [],
   "source": [
    "X_train_full, X_test, y_train_full, y_test = train_test_split(housing.data, housing.target)\n",
    "X_train, X_valid, y_train, y_valid = train_test_split(X_train_full, y_train_full)"
   ]
  },
  {
   "cell_type": "code",
   "execution_count": 4,
   "metadata": {},
   "outputs": [
    {
     "data": {
      "text/plain": [
       "((15480, 8), (11610, 8), (3870, 8), (5160, 8))"
      ]
     },
     "execution_count": 4,
     "metadata": {},
     "output_type": "execute_result"
    }
   ],
   "source": [
    "X_train_full.shape    ,  X_train.shape,   X_valid.shape,      X_test.shape"
   ]
  },
  {
   "cell_type": "code",
   "execution_count": 5,
   "metadata": {},
   "outputs": [],
   "source": [
    "scaler = StandardScaler()\n",
    "X_train = scaler.fit_transform(X_train)\n",
    "X_valid = scaler.transform(X_valid)\n",
    "X_test = scaler.transform(X_test)"
   ]
  },
  {
   "cell_type": "code",
   "execution_count": 6,
   "metadata": {},
   "outputs": [],
   "source": [
    "from tensorflow import keras"
   ]
  },
  {
   "cell_type": "code",
   "execution_count": 7,
   "metadata": {},
   "outputs": [],
   "source": [
    "model = keras.models.Sequential(\n",
    "        [keras.layers.Dense(30, activation=\"relu\", input_shape=X_train.shape[1:]),\n",
    "         keras.layers.Dense(1)]\n",
    "        )"
   ]
  },
  {
   "cell_type": "code",
   "execution_count": 8,
   "metadata": {},
   "outputs": [
    {
     "name": "stdout",
     "output_type": "stream",
     "text": [
      "Model: \"sequential\"\n",
      "_________________________________________________________________\n",
      "Layer (type)                 Output Shape              Param #   \n",
      "=================================================================\n",
      "dense (Dense)                (None, 30)                270       \n",
      "_________________________________________________________________\n",
      "dense_1 (Dense)              (None, 1)                 31        \n",
      "=================================================================\n",
      "Total params: 301\n",
      "Trainable params: 301\n",
      "Non-trainable params: 0\n",
      "_________________________________________________________________\n"
     ]
    }
   ],
   "source": [
    "model.summary()"
   ]
  },
  {
   "cell_type": "code",
   "execution_count": 9,
   "metadata": {},
   "outputs": [],
   "source": [
    "model.compile(loss=\"mean_squared_error\", optimizer=\"sgd\")\n",
    "# model.compile(loss=\"mean_squared_error\", optimizer=keras.optimizers.SGD(lr=1e-3))  #if we want to change the learning rate"
   ]
  },
  {
   "cell_type": "code",
   "execution_count": 10,
   "metadata": {},
   "outputs": [],
   "source": [
    "early_stopping_cb = keras.callbacks.EarlyStopping(patience=10,restore_best_weights=True)\n"
   ]
  },
  {
   "cell_type": "code",
   "execution_count": 11,
   "metadata": {},
   "outputs": [
    {
     "name": "stdout",
     "output_type": "stream",
     "text": [
      "Epoch 1/200\n",
      "363/363 [==============================] - 0s 887us/step - loss: 0.9724 - val_loss: 1.0628\n",
      "Epoch 2/200\n",
      "363/363 [==============================] - 0s 631us/step - loss: 0.5638 - val_loss: 0.4804\n",
      "Epoch 3/200\n",
      "363/363 [==============================] - 0s 605us/step - loss: 0.4821 - val_loss: 0.4329\n",
      "Epoch 4/200\n",
      "363/363 [==============================] - 0s 608us/step - loss: 0.4583 - val_loss: 0.4251\n",
      "Epoch 5/200\n",
      "363/363 [==============================] - 0s 607us/step - loss: 0.4478 - val_loss: 0.4077\n",
      "Epoch 6/200\n",
      "363/363 [==============================] - 0s 599us/step - loss: 0.4260 - val_loss: 0.3925\n",
      "Epoch 7/200\n",
      "363/363 [==============================] - 0s 612us/step - loss: 0.4154 - val_loss: 0.3860\n",
      "Epoch 8/200\n",
      "363/363 [==============================] - 0s 589us/step - loss: 0.4065 - val_loss: 0.4062\n",
      "Epoch 9/200\n",
      "363/363 [==============================] - 0s 602us/step - loss: 0.3999 - val_loss: 0.3728\n",
      "Epoch 10/200\n",
      "363/363 [==============================] - 0s 620us/step - loss: 0.3945 - val_loss: 0.3934\n",
      "Epoch 11/200\n",
      "363/363 [==============================] - 0s 624us/step - loss: 0.3927 - val_loss: 0.3788\n",
      "Epoch 12/200\n",
      "363/363 [==============================] - 0s 626us/step - loss: 0.3854 - val_loss: 0.3623\n",
      "Epoch 13/200\n",
      "363/363 [==============================] - 0s 605us/step - loss: 0.3860 - val_loss: 0.3643\n",
      "Epoch 14/200\n",
      "363/363 [==============================] - 0s 758us/step - loss: 0.3768 - val_loss: 0.3603\n",
      "Epoch 15/200\n",
      "363/363 [==============================] - 0s 873us/step - loss: 0.3764 - val_loss: 0.3590\n",
      "Epoch 16/200\n",
      "363/363 [==============================] - 0s 587us/step - loss: 0.3773 - val_loss: 0.3607\n",
      "Epoch 17/200\n",
      "363/363 [==============================] - 0s 614us/step - loss: 0.3716 - val_loss: 0.3566\n",
      "Epoch 18/200\n",
      "363/363 [==============================] - 0s 605us/step - loss: 0.3746 - val_loss: 0.3742\n",
      "Epoch 19/200\n",
      "363/363 [==============================] - 0s 618us/step - loss: 0.3845 - val_loss: 0.3551\n",
      "Epoch 20/200\n",
      "363/363 [==============================] - 0s 603us/step - loss: 0.3677 - val_loss: 0.3884\n",
      "Epoch 21/200\n",
      "363/363 [==============================] - 0s 613us/step - loss: 0.3664 - val_loss: 0.3533\n",
      "Epoch 22/200\n",
      "363/363 [==============================] - 0s 1ms/step - loss: 0.3616 - val_loss: 0.3499\n",
      "Epoch 23/200\n",
      "363/363 [==============================] - 0s 944us/step - loss: 0.3633 - val_loss: 0.4913\n",
      "Epoch 24/200\n",
      "363/363 [==============================] - 0s 699us/step - loss: 0.3709 - val_loss: 0.3478\n",
      "Epoch 25/200\n",
      "363/363 [==============================] - 0s 602us/step - loss: 0.3604 - val_loss: 0.3834\n",
      "Epoch 26/200\n",
      "363/363 [==============================] - 0s 632us/step - loss: 0.3600 - val_loss: 0.3483\n",
      "Epoch 27/200\n",
      "363/363 [==============================] - 0s 669us/step - loss: 0.3514 - val_loss: 0.3454\n",
      "Epoch 28/200\n",
      "363/363 [==============================] - 0s 610us/step - loss: 0.3502 - val_loss: 0.3636\n",
      "Epoch 29/200\n",
      "363/363 [==============================] - 0s 610us/step - loss: 0.3704 - val_loss: 0.5188\n",
      "Epoch 30/200\n",
      "363/363 [==============================] - 0s 624us/step - loss: 0.3772 - val_loss: 0.3472\n",
      "Epoch 31/200\n",
      "363/363 [==============================] - 0s 790us/step - loss: 0.3477 - val_loss: 0.3595\n",
      "Epoch 32/200\n",
      "363/363 [==============================] - 0s 602us/step - loss: 0.3613 - val_loss: 0.3483\n",
      "Epoch 33/200\n",
      "363/363 [==============================] - 0s 623us/step - loss: 0.3486 - val_loss: 0.3435\n",
      "Epoch 34/200\n",
      "363/363 [==============================] - 0s 894us/step - loss: 0.3416 - val_loss: 0.3403\n",
      "Epoch 35/200\n",
      "363/363 [==============================] - 0s 1ms/step - loss: 0.3410 - val_loss: 0.3427\n",
      "Epoch 36/200\n",
      "363/363 [==============================] - 0s 672us/step - loss: 0.3439 - val_loss: 0.3397\n",
      "Epoch 37/200\n",
      "363/363 [==============================] - 0s 715us/step - loss: 0.3382 - val_loss: 0.3386\n",
      "Epoch 38/200\n",
      "363/363 [==============================] - 0s 959us/step - loss: 0.3629 - val_loss: 0.3344\n",
      "Epoch 39/200\n",
      "363/363 [==============================] - 0s 757us/step - loss: 0.3372 - val_loss: 0.3363\n",
      "Epoch 40/200\n",
      "363/363 [==============================] - 0s 607us/step - loss: 0.3381 - val_loss: 0.3385\n",
      "Epoch 41/200\n",
      "363/363 [==============================] - 0s 628us/step - loss: 0.3332 - val_loss: 0.3431\n",
      "Epoch 42/200\n",
      "363/363 [==============================] - 0s 628us/step - loss: 0.3330 - val_loss: 0.3410\n",
      "Epoch 43/200\n",
      "363/363 [==============================] - 0s 734us/step - loss: 0.3328 - val_loss: 0.3350\n",
      "Epoch 44/200\n",
      "363/363 [==============================] - 0s 745us/step - loss: 0.3309 - val_loss: 0.3602\n",
      "Epoch 45/200\n",
      "363/363 [==============================] - 0s 856us/step - loss: 0.3296 - val_loss: 0.3432\n",
      "Epoch 46/200\n",
      "363/363 [==============================] - 0s 850us/step - loss: 0.3295 - val_loss: 0.3569\n",
      "Epoch 47/200\n",
      "363/363 [==============================] - 0s 616us/step - loss: 0.3281 - val_loss: 0.3377\n",
      "Epoch 48/200\n",
      "363/363 [==============================] - 0s 604us/step - loss: 0.3271 - val_loss: 0.3363\n"
     ]
    }
   ],
   "source": [
    "history = model.fit(X_train, y_train,     epochs=200,      validation_data=(X_valid, y_valid), callbacks=[early_stopping_cb])"
   ]
  },
  {
   "cell_type": "code",
   "execution_count": 12,
   "metadata": {},
   "outputs": [],
   "source": [
    "import matplotlib.pyplot as plt\n",
    "import pandas as pd"
   ]
  },
  {
   "cell_type": "code",
   "execution_count": 13,
   "metadata": {},
   "outputs": [
    {
     "data": {
      "text/html": [
       "<div>\n",
       "<style scoped>\n",
       "    .dataframe tbody tr th:only-of-type {\n",
       "        vertical-align: middle;\n",
       "    }\n",
       "\n",
       "    .dataframe tbody tr th {\n",
       "        vertical-align: top;\n",
       "    }\n",
       "\n",
       "    .dataframe thead th {\n",
       "        text-align: right;\n",
       "    }\n",
       "</style>\n",
       "<table border=\"1\" class=\"dataframe\">\n",
       "  <thead>\n",
       "    <tr style=\"text-align: right;\">\n",
       "      <th></th>\n",
       "      <th>loss</th>\n",
       "      <th>val_loss</th>\n",
       "    </tr>\n",
       "  </thead>\n",
       "  <tbody>\n",
       "    <tr>\n",
       "      <th>0</th>\n",
       "      <td>0.972359</td>\n",
       "      <td>1.062751</td>\n",
       "    </tr>\n",
       "    <tr>\n",
       "      <th>1</th>\n",
       "      <td>0.563761</td>\n",
       "      <td>0.480439</td>\n",
       "    </tr>\n",
       "    <tr>\n",
       "      <th>2</th>\n",
       "      <td>0.482126</td>\n",
       "      <td>0.432931</td>\n",
       "    </tr>\n",
       "    <tr>\n",
       "      <th>3</th>\n",
       "      <td>0.458319</td>\n",
       "      <td>0.425117</td>\n",
       "    </tr>\n",
       "    <tr>\n",
       "      <th>4</th>\n",
       "      <td>0.447764</td>\n",
       "      <td>0.407670</td>\n",
       "    </tr>\n",
       "    <tr>\n",
       "      <th>5</th>\n",
       "      <td>0.426000</td>\n",
       "      <td>0.392452</td>\n",
       "    </tr>\n",
       "    <tr>\n",
       "      <th>6</th>\n",
       "      <td>0.415378</td>\n",
       "      <td>0.386023</td>\n",
       "    </tr>\n",
       "    <tr>\n",
       "      <th>7</th>\n",
       "      <td>0.406504</td>\n",
       "      <td>0.406157</td>\n",
       "    </tr>\n",
       "    <tr>\n",
       "      <th>8</th>\n",
       "      <td>0.399916</td>\n",
       "      <td>0.372791</td>\n",
       "    </tr>\n",
       "    <tr>\n",
       "      <th>9</th>\n",
       "      <td>0.394467</td>\n",
       "      <td>0.393397</td>\n",
       "    </tr>\n",
       "    <tr>\n",
       "      <th>10</th>\n",
       "      <td>0.392668</td>\n",
       "      <td>0.378789</td>\n",
       "    </tr>\n",
       "    <tr>\n",
       "      <th>11</th>\n",
       "      <td>0.385409</td>\n",
       "      <td>0.362268</td>\n",
       "    </tr>\n",
       "    <tr>\n",
       "      <th>12</th>\n",
       "      <td>0.385963</td>\n",
       "      <td>0.364314</td>\n",
       "    </tr>\n",
       "    <tr>\n",
       "      <th>13</th>\n",
       "      <td>0.376813</td>\n",
       "      <td>0.360275</td>\n",
       "    </tr>\n",
       "    <tr>\n",
       "      <th>14</th>\n",
       "      <td>0.376429</td>\n",
       "      <td>0.359045</td>\n",
       "    </tr>\n",
       "    <tr>\n",
       "      <th>15</th>\n",
       "      <td>0.377344</td>\n",
       "      <td>0.360698</td>\n",
       "    </tr>\n",
       "    <tr>\n",
       "      <th>16</th>\n",
       "      <td>0.371642</td>\n",
       "      <td>0.356631</td>\n",
       "    </tr>\n",
       "    <tr>\n",
       "      <th>17</th>\n",
       "      <td>0.374599</td>\n",
       "      <td>0.374159</td>\n",
       "    </tr>\n",
       "    <tr>\n",
       "      <th>18</th>\n",
       "      <td>0.384506</td>\n",
       "      <td>0.355070</td>\n",
       "    </tr>\n",
       "    <tr>\n",
       "      <th>19</th>\n",
       "      <td>0.367689</td>\n",
       "      <td>0.388356</td>\n",
       "    </tr>\n",
       "    <tr>\n",
       "      <th>20</th>\n",
       "      <td>0.366371</td>\n",
       "      <td>0.353317</td>\n",
       "    </tr>\n",
       "    <tr>\n",
       "      <th>21</th>\n",
       "      <td>0.361647</td>\n",
       "      <td>0.349939</td>\n",
       "    </tr>\n",
       "    <tr>\n",
       "      <th>22</th>\n",
       "      <td>0.363305</td>\n",
       "      <td>0.491346</td>\n",
       "    </tr>\n",
       "    <tr>\n",
       "      <th>23</th>\n",
       "      <td>0.370926</td>\n",
       "      <td>0.347807</td>\n",
       "    </tr>\n",
       "    <tr>\n",
       "      <th>24</th>\n",
       "      <td>0.360350</td>\n",
       "      <td>0.383398</td>\n",
       "    </tr>\n",
       "    <tr>\n",
       "      <th>25</th>\n",
       "      <td>0.359994</td>\n",
       "      <td>0.348262</td>\n",
       "    </tr>\n",
       "    <tr>\n",
       "      <th>26</th>\n",
       "      <td>0.351441</td>\n",
       "      <td>0.345435</td>\n",
       "    </tr>\n",
       "    <tr>\n",
       "      <th>27</th>\n",
       "      <td>0.350236</td>\n",
       "      <td>0.363634</td>\n",
       "    </tr>\n",
       "    <tr>\n",
       "      <th>28</th>\n",
       "      <td>0.370398</td>\n",
       "      <td>0.518787</td>\n",
       "    </tr>\n",
       "    <tr>\n",
       "      <th>29</th>\n",
       "      <td>0.377151</td>\n",
       "      <td>0.347182</td>\n",
       "    </tr>\n",
       "    <tr>\n",
       "      <th>30</th>\n",
       "      <td>0.347683</td>\n",
       "      <td>0.359527</td>\n",
       "    </tr>\n",
       "    <tr>\n",
       "      <th>31</th>\n",
       "      <td>0.361329</td>\n",
       "      <td>0.348265</td>\n",
       "    </tr>\n",
       "    <tr>\n",
       "      <th>32</th>\n",
       "      <td>0.348569</td>\n",
       "      <td>0.343530</td>\n",
       "    </tr>\n",
       "    <tr>\n",
       "      <th>33</th>\n",
       "      <td>0.341575</td>\n",
       "      <td>0.340346</td>\n",
       "    </tr>\n",
       "    <tr>\n",
       "      <th>34</th>\n",
       "      <td>0.340989</td>\n",
       "      <td>0.342660</td>\n",
       "    </tr>\n",
       "    <tr>\n",
       "      <th>35</th>\n",
       "      <td>0.343920</td>\n",
       "      <td>0.339721</td>\n",
       "    </tr>\n",
       "    <tr>\n",
       "      <th>36</th>\n",
       "      <td>0.338176</td>\n",
       "      <td>0.338565</td>\n",
       "    </tr>\n",
       "    <tr>\n",
       "      <th>37</th>\n",
       "      <td>0.362874</td>\n",
       "      <td>0.334376</td>\n",
       "    </tr>\n",
       "    <tr>\n",
       "      <th>38</th>\n",
       "      <td>0.337169</td>\n",
       "      <td>0.336300</td>\n",
       "    </tr>\n",
       "    <tr>\n",
       "      <th>39</th>\n",
       "      <td>0.338127</td>\n",
       "      <td>0.338538</td>\n",
       "    </tr>\n",
       "    <tr>\n",
       "      <th>40</th>\n",
       "      <td>0.333221</td>\n",
       "      <td>0.343107</td>\n",
       "    </tr>\n",
       "    <tr>\n",
       "      <th>41</th>\n",
       "      <td>0.332960</td>\n",
       "      <td>0.340981</td>\n",
       "    </tr>\n",
       "    <tr>\n",
       "      <th>42</th>\n",
       "      <td>0.332817</td>\n",
       "      <td>0.334981</td>\n",
       "    </tr>\n",
       "    <tr>\n",
       "      <th>43</th>\n",
       "      <td>0.330936</td>\n",
       "      <td>0.360153</td>\n",
       "    </tr>\n",
       "    <tr>\n",
       "      <th>44</th>\n",
       "      <td>0.329583</td>\n",
       "      <td>0.343180</td>\n",
       "    </tr>\n",
       "    <tr>\n",
       "      <th>45</th>\n",
       "      <td>0.329544</td>\n",
       "      <td>0.356876</td>\n",
       "    </tr>\n",
       "    <tr>\n",
       "      <th>46</th>\n",
       "      <td>0.328051</td>\n",
       "      <td>0.337719</td>\n",
       "    </tr>\n",
       "    <tr>\n",
       "      <th>47</th>\n",
       "      <td>0.327095</td>\n",
       "      <td>0.336283</td>\n",
       "    </tr>\n",
       "  </tbody>\n",
       "</table>\n",
       "</div>"
      ],
      "text/plain": [
       "        loss  val_loss\n",
       "0   0.972359  1.062751\n",
       "1   0.563761  0.480439\n",
       "2   0.482126  0.432931\n",
       "3   0.458319  0.425117\n",
       "4   0.447764  0.407670\n",
       "5   0.426000  0.392452\n",
       "6   0.415378  0.386023\n",
       "7   0.406504  0.406157\n",
       "8   0.399916  0.372791\n",
       "9   0.394467  0.393397\n",
       "10  0.392668  0.378789\n",
       "11  0.385409  0.362268\n",
       "12  0.385963  0.364314\n",
       "13  0.376813  0.360275\n",
       "14  0.376429  0.359045\n",
       "15  0.377344  0.360698\n",
       "16  0.371642  0.356631\n",
       "17  0.374599  0.374159\n",
       "18  0.384506  0.355070\n",
       "19  0.367689  0.388356\n",
       "20  0.366371  0.353317\n",
       "21  0.361647  0.349939\n",
       "22  0.363305  0.491346\n",
       "23  0.370926  0.347807\n",
       "24  0.360350  0.383398\n",
       "25  0.359994  0.348262\n",
       "26  0.351441  0.345435\n",
       "27  0.350236  0.363634\n",
       "28  0.370398  0.518787\n",
       "29  0.377151  0.347182\n",
       "30  0.347683  0.359527\n",
       "31  0.361329  0.348265\n",
       "32  0.348569  0.343530\n",
       "33  0.341575  0.340346\n",
       "34  0.340989  0.342660\n",
       "35  0.343920  0.339721\n",
       "36  0.338176  0.338565\n",
       "37  0.362874  0.334376\n",
       "38  0.337169  0.336300\n",
       "39  0.338127  0.338538\n",
       "40  0.333221  0.343107\n",
       "41  0.332960  0.340981\n",
       "42  0.332817  0.334981\n",
       "43  0.330936  0.360153\n",
       "44  0.329583  0.343180\n",
       "45  0.329544  0.356876\n",
       "46  0.328051  0.337719\n",
       "47  0.327095  0.336283"
      ]
     },
     "execution_count": 13,
     "metadata": {},
     "output_type": "execute_result"
    }
   ],
   "source": [
    "pd.DataFrame(history.history)"
   ]
  },
  {
   "cell_type": "code",
   "execution_count": 14,
   "metadata": {},
   "outputs": [
    {
     "data": {
      "text/plain": [
       "<AxesSubplot:>"
      ]
     },
     "execution_count": 14,
     "metadata": {},
     "output_type": "execute_result"
    },
    {
     "data": {
      "image/png": "[encoded data removed]",
      "text/plain": [
       "<Figure size 432x288 with 1 Axes>"
      ]
     },
     "metadata": {
      "needs_background": "light"
     },
     "output_type": "display_data"
    }
   ],
   "source": [
    "pd.DataFrame(history.history).plot()"
   ]
  },
  {
   "cell_type": "code",
   "execution_count": 15,
   "metadata": {},
   "outputs": [],
   "source": [
    "# Or"
   ]
  },
  {
   "cell_type": "code",
   "execution_count": 16,
   "metadata": {},
   "outputs": [
    {
     "data": {
      "image/png": "[encoded data removed]",
      "text/plain": [
       "<Figure size 432x288 with 1 Axes>"
      ]
     },
     "metadata": {
      "needs_background": "light"
     },
     "output_type": "display_data"
    }
   ],
   "source": [
    "plt.plot(pd.DataFrame(history.history))\n",
    "plt.grid(True)\n",
    "plt.gca().set_ylim(0, 1)\n",
    "plt.legend(['Train Loss','Validation Loss'])\n",
    "plt.show()"
   ]
  },
  {
   "cell_type": "code",
   "execution_count": 17,
   "metadata": {},
   "outputs": [
    {
     "name": "stdout",
     "output_type": "stream",
     "text": [
      "162/162 [==============================] - 0s 484us/step - loss: 0.3323\n"
     ]
    }
   ],
   "source": [
    "mse_test = model.evaluate(X_test, y_test)"
   ]
  },
  {
   "cell_type": "code",
   "execution_count": 16,
   "metadata": {},
   "outputs": [],
   "source": [
    "X_new = X_test[:3] # pretend these are new instances\n",
    "y_pred = model.predict(X_new)"
   ]
  },
  {
   "cell_type": "code",
   "execution_count": 17,
   "metadata": {},
   "outputs": [
    {
     "data": {
      "text/plain": [
       "array([[1.3877509],\n",
       "       [3.1859558],\n",
       "       [4.624016 ]], dtype=float32)"
      ]
     },
     "execution_count": 17,
     "metadata": {},
     "output_type": "execute_result"
    }
   ],
   "source": [
    "y_pred"
   ]
  },
  {
   "cell_type": "code",
   "execution_count": 18,
   "metadata": {},
   "outputs": [
    {
     "data": {
      "text/plain": [
       "array([1.925  , 3.821  , 5.00001])"
      ]
     },
     "execution_count": 18,
     "metadata": {},
     "output_type": "execute_result"
    }
   ],
   "source": [
    "y_test[:3]"
   ]
  },
  {
   "cell_type": "markdown",
   "metadata": {},
   "source": [
    "***\n",
    "### EXTRA:\n",
    "### SAVING MODEL:"
   ]
  },
  {
   "cell_type": "code",
   "execution_count": 19,
   "metadata": {},
   "outputs": [],
   "source": [
    "model.save(\"my_keras_model.h5\")"
   ]
  },
  {
   "cell_type": "markdown",
   "metadata": {},
   "source": [
    "### LOADING MODEL:"
   ]
  },
  {
   "cell_type": "code",
   "execution_count": 20,
   "metadata": {},
   "outputs": [],
   "source": [
    "model2 = keras.models.load_model(\"my_keras_model.h5\")"
   ]
  },
  {
   "cell_type": "code",
   "execution_count": 21,
   "metadata": {},
   "outputs": [],
   "source": [
    "X_new = X_test[:3] # pretend these are new instances\n",
    "y_pred = model2.predict(X_new)"
   ]
  },
  {
   "cell_type": "code",
   "execution_count": 22,
   "metadata": {},
   "outputs": [
    {
     "data": {
      "text/plain": [
       "array([[1.3877509],\n",
       "       [3.1859558],\n",
       "       [4.624016 ]], dtype=float32)"
      ]
     },
     "execution_count": 22,
     "metadata": {},
     "output_type": "execute_result"
    }
   ],
   "source": [
    "y_pred"
   ]
  },
  {
   "cell_type": "code",
   "execution_count": 23,
   "metadata": {},
   "outputs": [
    {
     "data": {
      "text/plain": [
       "array([1.925  , 3.821  , 5.00001])"
      ]
     },
     "execution_count": 23,
     "metadata": {},
     "output_type": "execute_result"
    }
   ],
   "source": [
    "y_test[:3]"
   ]
  },
  {
   "cell_type": "markdown",
   "metadata": {},
   "source": [
    "### SAVING WEIGHTS:"
   ]
  },
  {
   "cell_type": "code",
   "execution_count": 24,
   "metadata": {},
   "outputs": [],
   "source": [
    "model.save_weights(\"my_keras_weights.ckpt\")"
   ]
  },
  {
   "cell_type": "markdown",
   "metadata": {},
   "source": [
    "### LOADING WEIGHTS:"
   ]
  },
  {
   "cell_type": "code",
   "execution_count": 26,
   "metadata": {},
   "outputs": [
    {
     "data": {
      "text/plain": [
       "<tensorflow.python.training.tracking.util.CheckpointLoadStatus at 0x1883e5da9c8>"
      ]
     },
     "execution_count": 26,
     "metadata": {},
     "output_type": "execute_result"
    }
   ],
   "source": [
    "model.load_weights(\"my_keras_weights.ckpt\")"
   ]
  }
 ],
 "metadata": {
  "kernelspec": {
   "display_name": "Python 3",
   "language": "python",
   "name": "python3"
  },
  "language_info": {
   "codemirror_mode": {
    "name": "ipython",
    "version": 3
   },
   "file_extension": ".py",
   "mimetype": "text/x-python",
   "name": "python",
   "nbconvert_exporter": "python",
   "pygments_lexer": "ipython3",
   "version": "3.7.6"
  }
 },
 "nbformat": 4,
 "nbformat_minor": 4
}
