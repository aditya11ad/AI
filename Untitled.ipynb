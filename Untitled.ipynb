{
 "cells": [
  {
   "cell_type": "code",
   "execution_count": 6,
   "metadata": {},
   "outputs": [],
   "source": [
    "from tensorflow import keras\n",
    "from tensorflow.keras.datasets import mnist\n",
    "from tensorflow.keras.models import Sequential\n",
    "from tensorflow.keras.layers import Dense, Dropout, Flatten\n",
    "from tensorflow.keras.layers import Conv2D, MaxPooling2D\n",
    "from tensorflow.keras import backend as K"
   ]
  },
  {
   "cell_type": "code",
   "execution_count": 7,
   "metadata": {},
   "outputs": [
    {
     "name": "stdout",
     "output_type": "stream",
     "text": [
      "Downloading data from https://storage.googleapis.com/tensorflow/tf-keras-datasets/mnist.npz\n",
      "11493376/11490434 [==============================] - 2s 0us/step\n"
     ]
    }
   ],
   "source": [
    "(x_train, y_train), (x_test, y_test) = mnist.load_data()\n",
    "\n",
    "img_rows, img_cols = 28, 28"
   ]
  },
  {
   "cell_type": "code",
   "execution_count": 8,
   "metadata": {},
   "outputs": [],
   "source": [
    "if K.image_data_format() == 'channels_first':\n",
    "    x_train = x_train.reshape(x_train.shape[0], 1, img_rows, img_cols)\n",
    "    x_test = x_test.reshape(x_test.shape[0], 1, img_rows, img_cols)\n",
    "    input_shape = (1, img_rows, img_cols)\n",
    "else:\n",
    "    x_train = x_train.reshape(x_train.shape[0], img_rows, img_cols, 1)\n",
    "    x_test = x_test.reshape(x_test.shape[0], img_rows, img_cols, 1)\n",
    "    input_shape = (img_rows, img_cols, 1)\n",
    "\n",
    "x_train = x_train.astype('float32')\n",
    "x_test = x_test.astype('float32')\n",
    "x_train /= 255\n",
    "x_test /= 255"
   ]
  },
  {
   "cell_type": "code",
   "execution_count": 9,
   "metadata": {},
   "outputs": [],
   "source": [
    "import numpy as np\n",
    "\n",
    "temp = []\n",
    "for img in x_train:\n",
    "    t = []\n",
    "    for row in img:\n",
    "        for i in row:\n",
    "            t.append(i)\n",
    "    temp.append(t)\n",
    "x_train = []\n",
    "x_train = temp\n",
    "\n",
    "x_train = np.array(x_train)\n",
    "\n",
    "x_train = x_train.reshape(60000,784)"
   ]
  },
  {
   "cell_type": "code",
   "execution_count": 10,
   "metadata": {},
   "outputs": [
    {
     "name": "stdout",
     "output_type": "stream",
     "text": [
      "Epoch 1/10\n",
      "235/235 [==============================] - 5s 21ms/step - loss: 0.0531 - accuracy: 0.0091\n",
      "Epoch 2/10\n",
      "235/235 [==============================] - 5s 21ms/step - loss: 0.0307 - accuracy: 0.0103 0s - loss: 0.0309 - ac\n",
      "Epoch 3/10\n",
      "235/235 [==============================] - 5s 20ms/step - loss: 0.0252 - accuracy: 0.0104 0s - loss: 0.0253 - accuracy: \n",
      "Epoch 4/10\n",
      "235/235 [==============================] - 5s 21ms/step - loss: 0.0220 - accuracy: 0.0116 4s - loss: 0.0231 - accuracy: 0.01 - ETA: 4s - loss: 0.0230 - accu\n",
      "Epoch 5/10\n",
      "235/235 [==============================] - 5s 20ms/step - loss: 0.0200 - accuracy: 0.0126\n",
      "Epoch 6/10\n",
      "235/235 [==============================] - 5s 20ms/step - loss: 0.0187 - accuracy: 0.0133\n",
      "Epoch 7/10\n",
      "235/235 [==============================] - 5s 20ms/step - loss: 0.0177 - accuracy: 0.0138\n",
      "Epoch 8/10\n",
      "235/235 [==============================] - 5s 20ms/step - loss: 0.0169 - accuracy: 0.0132\n",
      "Epoch 9/10\n",
      "235/235 [==============================] - 5s 20ms/step - loss: 0.0160 - accuracy: 0.0140\n",
      "Epoch 10/10\n",
      "235/235 [==============================] - 5s 20ms/step - loss: 0.0154 - accuracy: 0.0135 0s - loss: 0.0154 - accuracy: 0.01\n"
     ]
    }
   ],
   "source": [
    "model = Sequential()\n",
    "model.add(Dense(784,activation='relu',input_dim=784))\n",
    "model.add(Dense(256,activation='relu'))\n",
    "model.add(Dense(128,activation='relu'))\n",
    "model.add(Dense(256,activation='relu'))\n",
    "model.add(Dense(784,activation='relu'))\n",
    "\n",
    "model.compile(loss=keras.losses.mean_squared_error,\n",
    "             optimizer=keras.optimizers.RMSprop(lr=0.0001, rho=0.9, epsilon=None, decay=0.0),\n",
    "             metrics = ['accuracy'])\n",
    "\n",
    "model.fit(x_train,x_train,verbose=1,epochs=10,batch_size=256)\n",
    "model.save('auto_en.h5')\n",
    "#del model"
   ]
  },
  {
   "cell_type": "code",
   "execution_count": null,
   "metadata": {},
   "outputs": [],
   "source": [
    "! conda install opencv"
   ]
  },
  {
   "cell_type": "code",
   "execution_count": 11,
   "metadata": {},
   "outputs": [
    {
     "ename": "ModuleNotFoundError",
     "evalue": "No module named 'cv2'",
     "output_type": "error",
     "traceback": [
      "\u001b[1;31m---------------------------------------------------------------------------\u001b[0m",
      "\u001b[1;31mModuleNotFoundError\u001b[0m                       Traceback (most recent call last)",
      "\u001b[1;32m<ipython-input-11-87091dc7a86f>\u001b[0m in \u001b[0;36m<module>\u001b[1;34m\u001b[0m\n\u001b[0;32m      1\u001b[0m \u001b[1;32mfrom\u001b[0m \u001b[0mtensorflow\u001b[0m\u001b[1;33m.\u001b[0m\u001b[0mkeras\u001b[0m\u001b[1;33m.\u001b[0m\u001b[0mmodels\u001b[0m \u001b[1;32mimport\u001b[0m \u001b[0mload_model\u001b[0m\u001b[1;33m\u001b[0m\u001b[1;33m\u001b[0m\u001b[0m\n\u001b[1;32m----> 2\u001b[1;33m \u001b[1;32mimport\u001b[0m \u001b[0mcv2\u001b[0m\u001b[1;33m\u001b[0m\u001b[1;33m\u001b[0m\u001b[0m\n\u001b[0m",
      "\u001b[1;31mModuleNotFoundError\u001b[0m: No module named 'cv2'"
     ]
    }
   ],
   "source": [
    "from tensorflow.keras.models import load_model\n",
    "import cv2"
   ]
  },
  {
   "cell_type": "code",
   "execution_count": null,
   "metadata": {},
   "outputs": [],
   "source": [
    "model = load_model('auto_en.h5')\n",
    "\n",
    "test = x_train[1].reshape(1,784)\n",
    "y_test = model.predict(test)\n",
    "\n",
    "inp_img = []\n",
    "temp = []\n",
    "for i in range(len(test[0])):\n",
    "    if((i+1)%28 == 0):\n",
    "        temp.append(test[0][i])\n",
    "        inp_img.append(temp)\n",
    "        temp = []\n",
    "    else:\n",
    "        temp.append(test[0][i])\n",
    "out_img = []\n",
    "temp = []\n",
    "for i in range(len(y_test[0])):\n",
    "    if((i+1)%28 == 0):\n",
    "        temp.append(y_test[0][i])\n",
    "        out_img.append(temp)\n",
    "        temp = []\n",
    "    else:\n",
    "        temp.append(y_test[0][i])\n",
    "        \n",
    "inp_img = np.array(inp_img)\n",
    "out_img = np.array(out_img)\n",
    "        \n",
    "cv2.imshow('Test Image',inp_img)\n",
    "cv2.imshow('Output Image',out_img)\n",
    "cv2.waitKey(0)"
   ]
  }
 ],
 "metadata": {
  "kernelspec": {
   "display_name": "Python 3",
   "language": "python",
   "name": "python3"
  },
  "language_info": {
   "codemirror_mode": {
    "name": "ipython",
    "version": 3
   },
   "file_extension": ".py",
   "mimetype": "text/x-python",
   "name": "python",
   "nbconvert_exporter": "python",
   "pygments_lexer": "ipython3",
   "version": "3.7.6"
  }
 },
 "nbformat": 4,
 "nbformat_minor": 4
}
