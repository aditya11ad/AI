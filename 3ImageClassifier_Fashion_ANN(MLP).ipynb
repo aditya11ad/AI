{
 "cells": [
  {
   "cell_type": "code",
   "execution_count": 1,
   "metadata": {},
   "outputs": [
    {
     "name": "stdout",
     "output_type": "stream",
     "text": [
      "2.3.1\n"
     ]
    },
    {
     "data": {
      "text/plain": [
       "'2.4.0'"
      ]
     },
     "execution_count": 1,
     "metadata": {},
     "output_type": "execute_result"
    }
   ],
   "source": [
    "import tensorflow as tf\n",
    "from tensorflow import keras\n",
    "print(tf.__version__)\n",
    "keras.__version__"
   ]
  },
  {
   "cell_type": "code",
   "execution_count": 2,
   "metadata": {},
   "outputs": [],
   "source": [
    "fashion_mnist = keras.datasets.fashion_mnist\n",
    "(X_train_full, y_train_full), (X_test, y_test) = fashion_mnist.load_data()"
   ]
  },
  {
   "cell_type": "code",
   "execution_count": 3,
   "metadata": {},
   "outputs": [
    {
     "data": {
      "text/plain": [
       "((60000, 28, 28), (10000, 28, 28))"
      ]
     },
     "execution_count": 3,
     "metadata": {},
     "output_type": "execute_result"
    }
   ],
   "source": [
    "X_train_full.shape , X_test.shape"
   ]
  },
  {
   "cell_type": "markdown",
   "metadata": {},
   "source": [
    "Each pixel intensity is represented as a byte (0 to 255):"
   ]
  },
  {
   "cell_type": "markdown",
   "metadata": {},
   "source": [
    "Let's split the full training set into a validation set and a (smaller) training set. \n",
    "\n",
    "We also scale the pixel intensities down to the 0-1 range and convert them to floats, by dividing by 255.0"
   ]
  },
  {
   "cell_type": "code",
   "execution_count": 4,
   "metadata": {},
   "outputs": [],
   "source": [
    "X_valid, X_train = X_train_full[:5000] / 255.0, X_train_full[5000:] / 255.0\n",
    "y_valid, y_train = y_train_full[:5000], y_train_full[5000:]"
   ]
  },
  {
   "cell_type": "code",
   "execution_count": 5,
   "metadata": {},
   "outputs": [
    {
     "data": {
      "text/plain": [
       "((5000, 28, 28), (55000, 28, 28))"
      ]
     },
     "execution_count": 5,
     "metadata": {},
     "output_type": "execute_result"
    }
   ],
   "source": [
    "X_valid.shape , X_train.shape "
   ]
  },
  {
   "cell_type": "code",
   "execution_count": 6,
   "metadata": {},
   "outputs": [
    {
     "data": {
      "text/plain": [
       "array([4, 0, 7, ..., 3, 0, 5], dtype=uint8)"
      ]
     },
     "execution_count": 6,
     "metadata": {},
     "output_type": "execute_result"
    }
   ],
   "source": [
    "y_train"
   ]
  },
  {
   "cell_type": "markdown",
   "metadata": {},
   "source": [
    ": The labels are the class IDs (represented as uint8), from 0 to 9\n",
    "\n",
    "Here are the corresponding class names:\n",
    "\n",
    "https://www.tensorflow.org/api_docs/python/tf/keras/datasets/fashion_mnist/load_data"
   ]
  },
  {
   "cell_type": "code",
   "execution_count": 7,
   "metadata": {},
   "outputs": [],
   "source": [
    "class_names = [\"T-shirt/top\", \"Trouser\", \"Pullover\", \"Dress\", \"Coat\", \"Sandal\", \"Shirt\", \"Sneaker\", \"Bag\", \"Ankle boot\"]"
   ]
  },
  {
   "cell_type": "markdown",
   "metadata": {},
   "source": [
    "So the first image in the training set is a coat:"
   ]
  },
  {
   "cell_type": "code",
   "execution_count": 8,
   "metadata": {},
   "outputs": [
    {
     "data": {
      "text/plain": [
       "4"
      ]
     },
     "execution_count": 8,
     "metadata": {},
     "output_type": "execute_result"
    }
   ],
   "source": [
    "y_train[0]"
   ]
  },
  {
   "cell_type": "code",
   "execution_count": 9,
   "metadata": {},
   "outputs": [
    {
     "data": {
      "text/plain": [
       "'Coat'"
      ]
     },
     "execution_count": 9,
     "metadata": {},
     "output_type": "execute_result"
    }
   ],
   "source": [
    "class_names[y_train[0]]"
   ]
  },
  {
   "cell_type": "code",
   "execution_count": 10,
   "metadata": {},
   "outputs": [
    {
     "name": "stdout",
     "output_type": "stream",
     "text": [
      "[[0.         0.         0.         0.         0.         0.\n",
      "  0.         0.         0.         0.         0.         0.\n",
      "  0.         0.         0.         0.         0.         0.\n",
      "  0.         0.00392157 0.         0.         0.         0.\n",
      "  0.         0.         0.         0.        ]\n",
      " [0.         0.         0.         0.         0.         0.\n",
      "  0.         0.         0.         0.         0.         0.17254902\n",
      "  0.49803922 0.71372549 0.7254902  0.63137255 0.47058824 0.21568627\n",
      "  0.         0.         0.         0.         0.         0.\n",
      "  0.         0.         0.         0.        ]\n",
      " [0.         0.         0.         0.         0.         0.\n",
      "  0.         0.         0.         0.16470588 0.77647059 0.98431373\n",
      "  1.         0.98431373 0.97647059 0.96862745 1.         0.98823529\n",
      "  0.83921569 0.39215686 0.         0.         0.         0.\n",
      "  0.         0.         0.         0.        ]\n",
      " [0.         0.         0.         0.         0.         0.\n",
      "  0.00784314 0.         0.         0.91372549 0.98823529 0.92941176\n",
      "  0.9372549  0.91764706 0.92941176 0.92156863 0.92941176 0.92941176\n",
      "  0.99607843 0.89019608 0.         0.         0.         0.\n",
      "  0.00392157 0.         0.         0.        ]\n",
      " [0.         0.         0.         0.         0.         0.00784314\n",
      "  0.         0.         0.0627451  0.82352941 0.88235294 0.84313725\n",
      "  0.68627451 0.85098039 0.84705882 0.75686275 0.76862745 0.88627451\n",
      "  0.86666667 0.81960784 0.19607843 0.         0.         0.00784314\n",
      "  0.         0.         0.         0.        ]\n",
      " [0.         0.         0.         0.         0.00784314 0.\n",
      "  0.         0.78039216 0.89803922 0.90980392 0.90196078 0.96078431\n",
      "  0.8        0.85882353 0.99215686 0.96078431 0.81176471 0.76078431\n",
      "  0.8745098  0.90588235 0.9254902  0.92156863 0.         0.\n",
      "  0.01176471 0.         0.         0.        ]\n",
      " [0.         0.         0.         0.         0.00392157 0.\n",
      "  0.5372549  0.92156863 0.8        0.81960784 0.78823529 0.81960784\n",
      "  0.91764706 0.74509804 0.91764706 0.85490196 0.84313725 0.93333333\n",
      "  0.9372549  0.8        0.74117647 0.87843137 0.60392157 0.\n",
      "  0.         0.         0.         0.        ]\n",
      " [0.         0.         0.         0.         0.         0.\n",
      "  0.76078431 0.78823529 0.78431373 0.81960784 0.79215686 0.75686275\n",
      "  0.80392157 0.76078431 0.71764706 0.85490196 0.90588235 0.77254902\n",
      "  0.6745098  0.70980392 0.75686275 0.80392157 0.78039216 0.\n",
      "  0.         0.         0.         0.        ]\n",
      " [0.         0.         0.         0.         0.         0.01176471\n",
      "  0.83137255 0.79607843 0.7372549  0.74117647 0.76862745 0.77647059\n",
      "  0.77647059 0.78823529 0.76862745 0.85098039 0.70196078 0.65490196\n",
      "  0.71764706 0.85098039 0.77254902 0.79215686 0.85882353 0.11764706\n",
      "  0.         0.         0.         0.        ]\n",
      " [0.         0.         0.         0.         0.         0.13333333\n",
      "  0.88235294 0.78431373 0.76078431 0.74509804 0.7372549  0.75294118\n",
      "  0.76862745 0.75294118 0.66666667 0.79215686 0.74509804 0.78823529\n",
      "  0.76470588 0.78431373 0.78823529 0.81960784 0.89019608 0.19607843\n",
      "  0.         0.         0.         0.        ]\n",
      " [0.         0.         0.         0.         0.         0.26666667\n",
      "  0.88235294 0.82352941 0.82745098 0.77647059 0.75294118 0.76862745\n",
      "  0.8        0.76862745 0.70980392 0.83137255 0.77254902 0.76470588\n",
      "  0.75294118 0.80784314 0.8627451  0.82352941 0.89803922 0.36470588\n",
      "  0.         0.         0.         0.        ]\n",
      " [0.         0.         0.         0.         0.         0.43529412\n",
      "  0.8745098  0.89019608 0.99215686 0.81960784 0.76862745 0.8\n",
      "  0.82745098 0.80784314 0.71764706 0.84705882 0.80784314 0.82352941\n",
      "  0.79607843 0.84313725 0.95686275 0.87843137 0.89019608 0.58823529\n",
      "  0.         0.         0.         0.        ]\n",
      " [0.         0.         0.         0.         0.         0.54509804\n",
      "  0.88235294 0.87843137 1.         0.79215686 0.80784314 0.83137255\n",
      "  0.81960784 0.82745098 0.74509804 0.83529412 0.79215686 0.81176471\n",
      "  0.80784314 0.87058824 1.         0.90196078 0.8627451  0.74509804\n",
      "  0.         0.         0.         0.        ]\n",
      " [0.         0.         0.         0.         0.         0.70588235\n",
      "  0.88627451 0.87843137 1.         0.78039216 0.8        0.81176471\n",
      "  0.83921569 0.83921569 0.74509804 0.84705882 0.80784314 0.79607843\n",
      "  0.80392157 0.85882353 0.95294118 0.87843137 0.83921569 0.91764706\n",
      "  0.         0.         0.         0.        ]\n",
      " [0.         0.         0.         0.         0.         0.88235294\n",
      "  0.8745098  0.89411765 0.99607843 0.81960784 0.80784314 0.81568627\n",
      "  0.83529412 0.82352941 0.74901961 0.84313725 0.81176471 0.8\n",
      "  0.81568627 0.82745098 0.97647059 0.88627451 0.83921569 1.\n",
      "  0.14901961 0.         0.         0.        ]\n",
      " [0.         0.         0.         0.         0.         0.98039216\n",
      "  0.90980392 0.94117647 0.9372549  0.82745098 0.79607843 0.81960784\n",
      "  0.80392157 0.82745098 0.77254902 0.84313725 0.81568627 0.81568627\n",
      "  0.83921569 0.83529412 0.9372549  0.90588235 0.85882353 1.\n",
      "  0.31764706 0.         0.         0.        ]\n",
      " [0.         0.         0.         0.         0.         0.97254902\n",
      "  0.9254902  0.96862745 0.94117647 0.79607843 0.78431373 0.81568627\n",
      "  0.80784314 0.83921569 0.75686275 0.83529412 0.83137255 0.81568627\n",
      "  0.83137255 0.82745098 0.95294118 0.94901961 0.88235294 0.99607843\n",
      "  0.25882353 0.         0.         0.        ]\n",
      " [0.         0.         0.         0.         0.         0.96862745\n",
      "  0.90196078 0.98823529 0.88627451 0.78039216 0.82745098 0.79215686\n",
      "  0.82745098 0.83529412 0.71372549 0.83529412 0.83137255 0.80784314\n",
      "  0.79215686 0.85882353 0.81176471 0.96862745 0.87058824 0.92941176\n",
      "  0.40784314 0.         0.         0.        ]\n",
      " [0.         0.         0.         0.         0.03921569 0.95686275\n",
      "  0.85882353 0.98039216 0.80392157 0.78039216 0.81960784 0.79215686\n",
      "  0.81960784 0.82745098 0.74117647 0.83921569 0.80784314 0.82352941\n",
      "  0.78431373 0.83137255 0.60392157 0.94117647 0.81568627 0.85882353\n",
      "  0.54901961 0.         0.         0.        ]\n",
      " [0.         0.         0.         0.         0.08235294 1.\n",
      "  0.87058824 0.93333333 0.72156863 0.82352941 0.75294118 0.80784314\n",
      "  0.81960784 0.82352941 0.74117647 0.83529412 0.82745098 0.81960784\n",
      "  0.75294118 0.89411765 0.60784314 0.88627451 0.93333333 0.94509804\n",
      "  0.65098039 0.         0.         0.        ]\n",
      " [0.         0.         0.         0.         0.14509804 0.96078431\n",
      "  0.88627451 0.94509804 0.58823529 0.77254902 0.74117647 0.8\n",
      "  0.81960784 0.82352941 0.71764706 0.83529412 0.83529412 0.78823529\n",
      "  0.72156863 0.84313725 0.57254902 0.84705882 0.9254902  0.88235294\n",
      "  0.60392157 0.         0.         0.        ]\n",
      " [0.         0.         0.         0.         0.22745098 0.9372549\n",
      "  0.89019608 1.         0.61960784 0.75686275 0.76470588 0.8\n",
      "  0.81960784 0.83529412 0.70588235 0.81176471 0.85098039 0.78039216\n",
      "  0.76078431 0.82745098 0.61960784 0.85882353 0.9254902  0.84705882\n",
      "  0.59215686 0.         0.         0.        ]\n",
      " [0.         0.         0.         0.         0.26666667 0.91372549\n",
      "  0.88627451 0.95294118 0.54509804 0.78431373 0.75686275 0.80392157\n",
      "  0.82352941 0.81568627 0.70588235 0.80392157 0.83137255 0.79607843\n",
      "  0.76862745 0.84705882 0.61568627 0.70196078 1.         0.84705882\n",
      "  0.60784314 0.         0.         0.        ]\n",
      " [0.         0.         0.         0.         0.31764706 0.88235294\n",
      "  0.87843137 0.82745098 0.54117647 0.85882353 0.7254902  0.78823529\n",
      "  0.83529412 0.81176471 0.77254902 0.88627451 0.83137255 0.78431373\n",
      "  0.74509804 0.84313725 0.71764706 0.35294118 1.         0.82745098\n",
      "  0.57647059 0.         0.         0.        ]\n",
      " [0.         0.         0.         0.         0.35686275 0.82352941\n",
      "  0.90196078 0.61960784 0.44705882 0.80392157 0.73333333 0.81568627\n",
      "  0.81960784 0.80784314 0.75686275 0.82352941 0.82745098 0.8\n",
      "  0.76470588 0.8        0.70980392 0.09019608 1.         0.83529412\n",
      "  0.61960784 0.         0.         0.        ]\n",
      " [0.         0.         0.         0.         0.34117647 0.80392157\n",
      "  0.90980392 0.42745098 0.64313725 1.         0.83921569 0.87843137\n",
      "  0.87058824 0.82352941 0.77254902 0.83921569 0.88235294 0.87058824\n",
      "  0.82745098 0.8627451  0.85098039 0.         0.91764706 0.84705882\n",
      "  0.6627451  0.         0.         0.        ]\n",
      " [0.         0.         0.         0.         0.36078431 0.83529412\n",
      "  0.90980392 0.57254902 0.01960784 0.5254902  0.59215686 0.63529412\n",
      "  0.66666667 0.71764706 0.71372549 0.64313725 0.65098039 0.69803922\n",
      "  0.63529412 0.61176471 0.38431373 0.         0.94117647 0.88235294\n",
      "  0.82352941 0.         0.         0.        ]\n",
      " [0.         0.         0.         0.         0.16862745 0.64313725\n",
      "  0.80784314 0.55294118 0.         0.         0.         0.\n",
      "  0.         0.         0.         0.         0.         0.\n",
      "  0.         0.         0.         0.         0.49803922 0.49019608\n",
      "  0.29803922 0.         0.         0.        ]]\n"
     ]
    }
   ],
   "source": [
    "print(X_train[0])"
   ]
  },
  {
   "cell_type": "code",
   "execution_count": 11,
   "metadata": {},
   "outputs": [
    {
     "data": {
      "image/png": "[encoded data removed]",
      "text/plain": [
       "<Figure size 144x144 with 1 Axes>"
      ]
     },
     "metadata": {
      "needs_background": "light"
     },
     "output_type": "display_data"
    }
   ],
   "source": [
    "import matplotlib.pyplot as plt\n",
    "plt.figure(figsize=(2,2))\n",
    "plt.imshow(X_train[0], cmap=\"binary\")\n",
    "plt.axis('off')\n",
    "plt.show()"
   ]
  },
  {
   "cell_type": "code",
   "execution_count": 12,
   "metadata": {},
   "outputs": [
    {
     "data": {
      "image/png": "[encoded data removed]",
      "text/plain": [
       "<Figure size 864x345.6 with 40 Axes>"
      ]
     },
     "metadata": {
      "needs_background": "light"
     },
     "output_type": "display_data"
    }
   ],
   "source": [
    "n_rows = 4\n",
    "n_cols = 10\n",
    "plt.figure(figsize=(n_cols * 1.2, n_rows * 1.2))\n",
    "for row in range(n_rows):\n",
    "    for col in range(n_cols):\n",
    "        index = n_cols * row + col\n",
    "        plt.subplot(n_rows, n_cols, index + 1)\n",
    "        plt.imshow(X_train[index], cmap=\"binary\", interpolation=\"nearest\")\n",
    "        plt.axis('off')\n",
    "        plt.title(class_names[y_train[index]], fontsize=12)\n",
    "plt.subplots_adjust(wspace=0.2, hspace=0.5)\n",
    "plt.show()"
   ]
  },
  {
   "cell_type": "code",
   "execution_count": 13,
   "metadata": {},
   "outputs": [
    {
     "data": {
      "text/plain": [
       "784"
      ]
     },
     "execution_count": 13,
     "metadata": {},
     "output_type": "execute_result"
    }
   ],
   "source": [
    "28*28"
   ]
  },
  {
   "cell_type": "code",
   "execution_count": 14,
   "metadata": {},
   "outputs": [],
   "source": [
    "model = keras.models.Sequential()\n",
    "model.add(keras.layers.Flatten(input_shape=[28,28]))\n",
    "model.add(keras.layers.Dense(300, activation=\"relu\"))\n",
    "model.add(keras.layers.Dense(100, activation=\"relu\"))\n",
    "model.add(keras.layers.Dense(10, activation=\"softmax\"))\n",
    "# ======= Or ==================================================================\n",
    "#model = keras.models.Sequential(\n",
    "#        [keras.layers.Flatten(input_shape=[28, 28]),\n",
    "#         keras.layers.Dense(300, activation=\"relu\"),\n",
    "#         keras.layers.Dense(100, activation=\"relu\"),\n",
    "#         keras.layers.Dense(10, activation=\"softmax\")]\n",
    "#        )"
   ]
  },
  {
   "cell_type": "code",
   "execution_count": 15,
   "metadata": {},
   "outputs": [
    {
     "data": {
      "text/plain": [
       "[<tensorflow.python.keras.layers.core.Flatten at 0x1a71b0c7148>,\n",
       " <tensorflow.python.keras.layers.core.Dense at 0x1a71b0f2c08>,\n",
       " <tensorflow.python.keras.layers.core.Dense at 0x1a71af357c8>,\n",
       " <tensorflow.python.keras.layers.core.Dense at 0x1a71b036808>]"
      ]
     },
     "execution_count": 15,
     "metadata": {},
     "output_type": "execute_result"
    }
   ],
   "source": [
    "model.layers"
   ]
  },
  {
   "cell_type": "code",
   "execution_count": 20,
   "metadata": {},
   "outputs": [
    {
     "name": "stdout",
     "output_type": "stream",
     "text": [
      "Model: \"sequential\"\n",
      "_________________________________________________________________\n",
      "Layer (type)                 Output Shape              Param #   \n",
      "=================================================================\n",
      "flatten (Flatten)            (None, 784)               0         \n",
      "_________________________________________________________________\n",
      "dense (Dense)                (None, 300)               235500    \n",
      "_________________________________________________________________\n",
      "dense_1 (Dense)              (None, 100)               30100     \n",
      "_________________________________________________________________\n",
      "dense_2 (Dense)              (None, 10)                1010      \n",
      "=================================================================\n",
      "Total params: 266,610\n",
      "Trainable params: 266,610\n",
      "Non-trainable params: 0\n",
      "_________________________________________________________________\n"
     ]
    }
   ],
   "source": [
    "model.summary()"
   ]
  },
  {
   "cell_type": "code",
   "execution_count": 21,
   "metadata": {},
   "outputs": [],
   "source": [
    "hidden1 = model.layers[1]"
   ]
  },
  {
   "cell_type": "code",
   "execution_count": 22,
   "metadata": {},
   "outputs": [],
   "source": [
    "#weights = hidden1.get_weights()\n",
    "weights,biases = hidden1.get_weights()"
   ]
  },
  {
   "cell_type": "code",
   "execution_count": 23,
   "metadata": {},
   "outputs": [
    {
     "data": {
      "text/plain": [
       "(784, 300)"
      ]
     },
     "execution_count": 23,
     "metadata": {},
     "output_type": "execute_result"
    }
   ],
   "source": [
    "weights.shape"
   ]
  },
  {
   "cell_type": "code",
   "execution_count": 24,
   "metadata": {},
   "outputs": [
    {
     "data": {
      "text/plain": [
       "array([0., 0., 0., 0., 0., 0., 0., 0., 0., 0., 0., 0., 0., 0., 0., 0., 0.,\n",
       "       0., 0., 0., 0., 0., 0., 0., 0., 0., 0., 0., 0., 0., 0., 0., 0., 0.,\n",
       "       0., 0., 0., 0., 0., 0., 0., 0., 0., 0., 0., 0., 0., 0., 0., 0., 0.,\n",
       "       0., 0., 0., 0., 0., 0., 0., 0., 0., 0., 0., 0., 0., 0., 0., 0., 0.,\n",
       "       0., 0., 0., 0., 0., 0., 0., 0., 0., 0., 0., 0., 0., 0., 0., 0., 0.,\n",
       "       0., 0., 0., 0., 0., 0., 0., 0., 0., 0., 0., 0., 0., 0., 0., 0., 0.,\n",
       "       0., 0., 0., 0., 0., 0., 0., 0., 0., 0., 0., 0., 0., 0., 0., 0., 0.,\n",
       "       0., 0., 0., 0., 0., 0., 0., 0., 0., 0., 0., 0., 0., 0., 0., 0., 0.,\n",
       "       0., 0., 0., 0., 0., 0., 0., 0., 0., 0., 0., 0., 0., 0., 0., 0., 0.,\n",
       "       0., 0., 0., 0., 0., 0., 0., 0., 0., 0., 0., 0., 0., 0., 0., 0., 0.,\n",
       "       0., 0., 0., 0., 0., 0., 0., 0., 0., 0., 0., 0., 0., 0., 0., 0., 0.,\n",
       "       0., 0., 0., 0., 0., 0., 0., 0., 0., 0., 0., 0., 0., 0., 0., 0., 0.,\n",
       "       0., 0., 0., 0., 0., 0., 0., 0., 0., 0., 0., 0., 0., 0., 0., 0., 0.,\n",
       "       0., 0., 0., 0., 0., 0., 0., 0., 0., 0., 0., 0., 0., 0., 0., 0., 0.,\n",
       "       0., 0., 0., 0., 0., 0., 0., 0., 0., 0., 0., 0., 0., 0., 0., 0., 0.,\n",
       "       0., 0., 0., 0., 0., 0., 0., 0., 0., 0., 0., 0., 0., 0., 0., 0., 0.,\n",
       "       0., 0., 0., 0., 0., 0., 0., 0., 0., 0., 0., 0., 0., 0., 0., 0., 0.,\n",
       "       0., 0., 0., 0., 0., 0., 0., 0., 0., 0., 0.], dtype=float32)"
      ]
     },
     "execution_count": 24,
     "metadata": {},
     "output_type": "execute_result"
    }
   ],
   "source": [
    "biases"
   ]
  },
  {
   "cell_type": "code",
   "execution_count": 25,
   "metadata": {},
   "outputs": [],
   "source": [
    "model.compile(loss=\"sparse_categorical_crossentropy\",\n",
    "              optimizer=\"sgd\",\n",
    "              metrics=[\"accuracy\"])\n",
    "# ======= Or ==================================================================\n",
    "# model.compile(loss=keras.losses.sparse_categorical_crossentropy,\n",
    "#               optimizer=keras.optimizers.SGD(),\n",
    "#               metrics=[keras.metrics.sparse_categorical_accuracy])"
   ]
  },
  {
   "cell_type": "code",
   "execution_count": 26,
   "metadata": {},
   "outputs": [
    {
     "name": "stdout",
     "output_type": "stream",
     "text": [
      "Epoch 1/30\n",
      "1719/1719 [==============================] - 2s 1ms/step - loss: 0.7237 - accuracy: 0.7641 - val_loss: 0.5254 - val_accuracy: 0.8204\n",
      "Epoch 2/30\n",
      "1719/1719 [==============================] - 2s 1ms/step - loss: 0.4876 - accuracy: 0.8300 - val_loss: 0.4322 - val_accuracy: 0.8540\n",
      "Epoch 3/30\n",
      "1719/1719 [==============================] - 2s 1ms/step - loss: 0.4405 - accuracy: 0.8455 - val_loss: 0.4180 - val_accuracy: 0.8576\n",
      "Epoch 4/30\n",
      "1719/1719 [==============================] - 2s 1ms/step - loss: 0.4145 - accuracy: 0.8545 - val_loss: 0.3948 - val_accuracy: 0.8620\n",
      "Epoch 5/30\n",
      "1719/1719 [==============================] - 2s 1ms/step - loss: 0.3934 - accuracy: 0.8602 - val_loss: 0.3904 - val_accuracy: 0.8688\n",
      "Epoch 6/30\n",
      "1719/1719 [==============================] - 2s 1ms/step - loss: 0.3771 - accuracy: 0.8672 - val_loss: 0.3713 - val_accuracy: 0.8714\n",
      "Epoch 7/30\n",
      "1719/1719 [==============================] - 2s 1ms/step - loss: 0.3635 - accuracy: 0.8701 - val_loss: 0.3748 - val_accuracy: 0.8688\n",
      "Epoch 8/30\n",
      "1719/1719 [==============================] - 3s 1ms/step - loss: 0.3510 - accuracy: 0.8756 - val_loss: 0.3514 - val_accuracy: 0.8772\n",
      "Epoch 9/30\n",
      "1719/1719 [==============================] - 3s 1ms/step - loss: 0.3413 - accuracy: 0.8787 - val_loss: 0.3439 - val_accuracy: 0.8782\n",
      "Epoch 10/30\n",
      "1719/1719 [==============================] - 3s 2ms/step - loss: 0.3321 - accuracy: 0.8812 - val_loss: 0.3596 - val_accuracy: 0.8732\n",
      "Epoch 11/30\n",
      "1719/1719 [==============================] - 2s 1ms/step - loss: 0.3233 - accuracy: 0.8839 - val_loss: 0.3384 - val_accuracy: 0.8816\n",
      "Epoch 12/30\n",
      "1719/1719 [==============================] - 3s 2ms/step - loss: 0.3157 - accuracy: 0.8866 - val_loss: 0.3470 - val_accuracy: 0.8760\n",
      "Epoch 13/30\n",
      "1719/1719 [==============================] - 2s 1ms/step - loss: 0.3094 - accuracy: 0.8888 - val_loss: 0.3435 - val_accuracy: 0.8738\n",
      "Epoch 14/30\n",
      "1719/1719 [==============================] - 3s 2ms/step - loss: 0.3019 - accuracy: 0.8919 - val_loss: 0.3589 - val_accuracy: 0.8666\n",
      "Epoch 15/30\n",
      "1719/1719 [==============================] - 2s 1ms/step - loss: 0.2955 - accuracy: 0.8930 - val_loss: 0.3193 - val_accuracy: 0.8862\n",
      "Epoch 16/30\n",
      "1719/1719 [==============================] - 2s 1ms/step - loss: 0.2892 - accuracy: 0.8961 - val_loss: 0.3456 - val_accuracy: 0.8766\n",
      "Epoch 17/30\n",
      "1719/1719 [==============================] - 2s 1ms/step - loss: 0.2842 - accuracy: 0.8970 - val_loss: 0.3390 - val_accuracy: 0.8750\n",
      "Epoch 18/30\n",
      "1719/1719 [==============================] - 3s 2ms/step - loss: 0.2780 - accuracy: 0.8991 - val_loss: 0.3373 - val_accuracy: 0.8778\n",
      "Epoch 19/30\n",
      "1719/1719 [==============================] - 2s 1ms/step - loss: 0.2733 - accuracy: 0.9019 - val_loss: 0.3097 - val_accuracy: 0.8886\n",
      "Epoch 20/30\n",
      "1719/1719 [==============================] - 3s 2ms/step - loss: 0.2683 - accuracy: 0.9018 - val_loss: 0.3280 - val_accuracy: 0.8804\n",
      "Epoch 21/30\n",
      "1719/1719 [==============================] - 2s 1ms/step - loss: 0.2626 - accuracy: 0.9038 - val_loss: 0.3123 - val_accuracy: 0.8858\n",
      "Epoch 22/30\n",
      "1719/1719 [==============================] - 3s 2ms/step - loss: 0.2583 - accuracy: 0.9062 - val_loss: 0.3104 - val_accuracy: 0.8876\n",
      "Epoch 23/30\n",
      "1719/1719 [==============================] - 2s 1ms/step - loss: 0.2540 - accuracy: 0.9090 - val_loss: 0.2995 - val_accuracy: 0.8910\n",
      "Epoch 24/30\n",
      "1719/1719 [==============================] - 3s 2ms/step - loss: 0.2497 - accuracy: 0.9089 - val_loss: 0.3059 - val_accuracy: 0.8888\n",
      "Epoch 25/30\n",
      "1719/1719 [==============================] - 3s 2ms/step - loss: 0.2443 - accuracy: 0.9126 - val_loss: 0.3123 - val_accuracy: 0.8862\n",
      "Epoch 26/30\n",
      "1719/1719 [==============================] - 2s 1ms/step - loss: 0.2411 - accuracy: 0.9121 - val_loss: 0.3023 - val_accuracy: 0.8868\n",
      "Epoch 27/30\n",
      "1719/1719 [==============================] - 2s 1ms/step - loss: 0.2357 - accuracy: 0.9157 - val_loss: 0.3040 - val_accuracy: 0.8894\n",
      "Epoch 28/30\n",
      "1719/1719 [==============================] - 3s 2ms/step - loss: 0.2331 - accuracy: 0.9153 - val_loss: 0.3173 - val_accuracy: 0.8820\n",
      "Epoch 29/30\n",
      "1719/1719 [==============================] - 3s 2ms/step - loss: 0.2288 - accuracy: 0.9185 - val_loss: 0.3023 - val_accuracy: 0.8884\n",
      "Epoch 30/30\n",
      "1719/1719 [==============================] - 3s 2ms/step - loss: 0.2248 - accuracy: 0.9197 - val_loss: 0.3072 - val_accuracy: 0.8882\n"
     ]
    }
   ],
   "source": [
    "history = model.fit(X_train, y_train, \n",
    "                    epochs=30, \n",
    "                    validation_data=(X_valid, y_valid))"
   ]
  },
  {
   "cell_type": "code",
   "execution_count": 27,
   "metadata": {},
   "outputs": [
    {
     "data": {
      "text/plain": [
       "{'verbose': 1, 'epochs': 30, 'steps': 1719}"
      ]
     },
     "execution_count": 27,
     "metadata": {},
     "output_type": "execute_result"
    }
   ],
   "source": [
    "history.params"
   ]
  },
  {
   "cell_type": "code",
   "execution_count": 28,
   "metadata": {},
   "outputs": [
    {
     "data": {
      "text/plain": [
       "{'loss': [0.7237057685852051,\n",
       "  0.4876399040222168,\n",
       "  0.44053202867507935,\n",
       "  0.4145261347293854,\n",
       "  0.3934394121170044,\n",
       "  0.3771262764930725,\n",
       "  0.36351630091667175,\n",
       "  0.3510444462299347,\n",
       "  0.34133151173591614,\n",
       "  0.33208489418029785,\n",
       "  0.323347806930542,\n",
       "  0.3157375454902649,\n",
       "  0.3093959093093872,\n",
       "  0.30186381936073303,\n",
       "  0.29549771547317505,\n",
       "  0.28916165232658386,\n",
       "  0.28416678309440613,\n",
       "  0.2779587209224701,\n",
       "  0.27334123849868774,\n",
       "  0.2682657241821289,\n",
       "  0.2625693082809448,\n",
       "  0.2583414614200592,\n",
       "  0.2539505660533905,\n",
       "  0.24971015751361847,\n",
       "  0.24431312084197998,\n",
       "  0.2410941869020462,\n",
       "  0.23572038114070892,\n",
       "  0.23314781486988068,\n",
       "  0.22876423597335815,\n",
       "  0.22482822835445404],\n",
       " 'accuracy': [0.7640727162361145,\n",
       "  0.8299999833106995,\n",
       "  0.8454727530479431,\n",
       "  0.8544727563858032,\n",
       "  0.8602363467216492,\n",
       "  0.8672000169754028,\n",
       "  0.870090901851654,\n",
       "  0.8756363391876221,\n",
       "  0.87867271900177,\n",
       "  0.8812181949615479,\n",
       "  0.8838545680046082,\n",
       "  0.8866181969642639,\n",
       "  0.8887636661529541,\n",
       "  0.8918727040290833,\n",
       "  0.8929818272590637,\n",
       "  0.8960545659065247,\n",
       "  0.8970181941986084,\n",
       "  0.8991454839706421,\n",
       "  0.9018545746803284,\n",
       "  0.9017817974090576,\n",
       "  0.9038181900978088,\n",
       "  0.9062363505363464,\n",
       "  0.9089636206626892,\n",
       "  0.9088545441627502,\n",
       "  0.9125818014144897,\n",
       "  0.9121272563934326,\n",
       "  0.9156908988952637,\n",
       "  0.915254533290863,\n",
       "  0.9185272455215454,\n",
       "  0.9196909070014954],\n",
       " 'val_loss': [0.5253983736038208,\n",
       "  0.4321966767311096,\n",
       "  0.41803091764450073,\n",
       "  0.3947920501232147,\n",
       "  0.39041540026664734,\n",
       "  0.37127259373664856,\n",
       "  0.3748289942741394,\n",
       "  0.35137641429901123,\n",
       "  0.3438816964626312,\n",
       "  0.35958147048950195,\n",
       "  0.3383908271789551,\n",
       "  0.34700506925582886,\n",
       "  0.34347423911094666,\n",
       "  0.3588500916957855,\n",
       "  0.31934621930122375,\n",
       "  0.345564067363739,\n",
       "  0.3390376567840576,\n",
       "  0.33732083439826965,\n",
       "  0.309673547744751,\n",
       "  0.3280213475227356,\n",
       "  0.31226876378059387,\n",
       "  0.31041014194488525,\n",
       "  0.2995152175426483,\n",
       "  0.30585977435112,\n",
       "  0.3122844099998474,\n",
       "  0.3022938668727875,\n",
       "  0.3039769232273102,\n",
       "  0.3172614872455597,\n",
       "  0.30227985978126526,\n",
       "  0.3071958124637604],\n",
       " 'val_accuracy': [0.8203999996185303,\n",
       "  0.8539999723434448,\n",
       "  0.8575999736785889,\n",
       "  0.8619999885559082,\n",
       "  0.8687999844551086,\n",
       "  0.871399998664856,\n",
       "  0.8687999844551086,\n",
       "  0.8772000074386597,\n",
       "  0.8781999945640564,\n",
       "  0.873199999332428,\n",
       "  0.881600022315979,\n",
       "  0.8759999871253967,\n",
       "  0.8737999796867371,\n",
       "  0.866599977016449,\n",
       "  0.8862000107765198,\n",
       "  0.8766000270843506,\n",
       "  0.875,\n",
       "  0.8777999877929688,\n",
       "  0.8885999917984009,\n",
       "  0.8804000020027161,\n",
       "  0.8858000040054321,\n",
       "  0.8876000046730042,\n",
       "  0.890999972820282,\n",
       "  0.8888000249862671,\n",
       "  0.8862000107765198,\n",
       "  0.8867999911308289,\n",
       "  0.8894000053405762,\n",
       "  0.8820000290870667,\n",
       "  0.8884000182151794,\n",
       "  0.8881999850273132]}"
      ]
     },
     "execution_count": 28,
     "metadata": {},
     "output_type": "execute_result"
    }
   ],
   "source": [
    "history.history"
   ]
  },
  {
   "cell_type": "code",
   "execution_count": 29,
   "metadata": {},
   "outputs": [
    {
     "data": {
      "text/html": [
       "<div>\n",
       "<style scoped>\n",
       "    .dataframe tbody tr th:only-of-type {\n",
       "        vertical-align: middle;\n",
       "    }\n",
       "\n",
       "    .dataframe tbody tr th {\n",
       "        vertical-align: top;\n",
       "    }\n",
       "\n",
       "    .dataframe thead th {\n",
       "        text-align: right;\n",
       "    }\n",
       "</style>\n",
       "<table border=\"1\" class=\"dataframe\">\n",
       "  <thead>\n",
       "    <tr style=\"text-align: right;\">\n",
       "      <th></th>\n",
       "      <th>loss</th>\n",
       "      <th>accuracy</th>\n",
       "      <th>val_loss</th>\n",
       "      <th>val_accuracy</th>\n",
       "    </tr>\n",
       "  </thead>\n",
       "  <tbody>\n",
       "    <tr>\n",
       "      <th>0</th>\n",
       "      <td>0.723706</td>\n",
       "      <td>0.764073</td>\n",
       "      <td>0.525398</td>\n",
       "      <td>0.8204</td>\n",
       "    </tr>\n",
       "    <tr>\n",
       "      <th>1</th>\n",
       "      <td>0.487640</td>\n",
       "      <td>0.830000</td>\n",
       "      <td>0.432197</td>\n",
       "      <td>0.8540</td>\n",
       "    </tr>\n",
       "    <tr>\n",
       "      <th>2</th>\n",
       "      <td>0.440532</td>\n",
       "      <td>0.845473</td>\n",
       "      <td>0.418031</td>\n",
       "      <td>0.8576</td>\n",
       "    </tr>\n",
       "    <tr>\n",
       "      <th>3</th>\n",
       "      <td>0.414526</td>\n",
       "      <td>0.854473</td>\n",
       "      <td>0.394792</td>\n",
       "      <td>0.8620</td>\n",
       "    </tr>\n",
       "    <tr>\n",
       "      <th>4</th>\n",
       "      <td>0.393439</td>\n",
       "      <td>0.860236</td>\n",
       "      <td>0.390415</td>\n",
       "      <td>0.8688</td>\n",
       "    </tr>\n",
       "    <tr>\n",
       "      <th>5</th>\n",
       "      <td>0.377126</td>\n",
       "      <td>0.867200</td>\n",
       "      <td>0.371273</td>\n",
       "      <td>0.8714</td>\n",
       "    </tr>\n",
       "    <tr>\n",
       "      <th>6</th>\n",
       "      <td>0.363516</td>\n",
       "      <td>0.870091</td>\n",
       "      <td>0.374829</td>\n",
       "      <td>0.8688</td>\n",
       "    </tr>\n",
       "    <tr>\n",
       "      <th>7</th>\n",
       "      <td>0.351044</td>\n",
       "      <td>0.875636</td>\n",
       "      <td>0.351376</td>\n",
       "      <td>0.8772</td>\n",
       "    </tr>\n",
       "    <tr>\n",
       "      <th>8</th>\n",
       "      <td>0.341332</td>\n",
       "      <td>0.878673</td>\n",
       "      <td>0.343882</td>\n",
       "      <td>0.8782</td>\n",
       "    </tr>\n",
       "    <tr>\n",
       "      <th>9</th>\n",
       "      <td>0.332085</td>\n",
       "      <td>0.881218</td>\n",
       "      <td>0.359581</td>\n",
       "      <td>0.8732</td>\n",
       "    </tr>\n",
       "    <tr>\n",
       "      <th>10</th>\n",
       "      <td>0.323348</td>\n",
       "      <td>0.883855</td>\n",
       "      <td>0.338391</td>\n",
       "      <td>0.8816</td>\n",
       "    </tr>\n",
       "    <tr>\n",
       "      <th>11</th>\n",
       "      <td>0.315738</td>\n",
       "      <td>0.886618</td>\n",
       "      <td>0.347005</td>\n",
       "      <td>0.8760</td>\n",
       "    </tr>\n",
       "    <tr>\n",
       "      <th>12</th>\n",
       "      <td>0.309396</td>\n",
       "      <td>0.888764</td>\n",
       "      <td>0.343474</td>\n",
       "      <td>0.8738</td>\n",
       "    </tr>\n",
       "    <tr>\n",
       "      <th>13</th>\n",
       "      <td>0.301864</td>\n",
       "      <td>0.891873</td>\n",
       "      <td>0.358850</td>\n",
       "      <td>0.8666</td>\n",
       "    </tr>\n",
       "    <tr>\n",
       "      <th>14</th>\n",
       "      <td>0.295498</td>\n",
       "      <td>0.892982</td>\n",
       "      <td>0.319346</td>\n",
       "      <td>0.8862</td>\n",
       "    </tr>\n",
       "    <tr>\n",
       "      <th>15</th>\n",
       "      <td>0.289162</td>\n",
       "      <td>0.896055</td>\n",
       "      <td>0.345564</td>\n",
       "      <td>0.8766</td>\n",
       "    </tr>\n",
       "    <tr>\n",
       "      <th>16</th>\n",
       "      <td>0.284167</td>\n",
       "      <td>0.897018</td>\n",
       "      <td>0.339038</td>\n",
       "      <td>0.8750</td>\n",
       "    </tr>\n",
       "    <tr>\n",
       "      <th>17</th>\n",
       "      <td>0.277959</td>\n",
       "      <td>0.899145</td>\n",
       "      <td>0.337321</td>\n",
       "      <td>0.8778</td>\n",
       "    </tr>\n",
       "    <tr>\n",
       "      <th>18</th>\n",
       "      <td>0.273341</td>\n",
       "      <td>0.901855</td>\n",
       "      <td>0.309674</td>\n",
       "      <td>0.8886</td>\n",
       "    </tr>\n",
       "    <tr>\n",
       "      <th>19</th>\n",
       "      <td>0.268266</td>\n",
       "      <td>0.901782</td>\n",
       "      <td>0.328021</td>\n",
       "      <td>0.8804</td>\n",
       "    </tr>\n",
       "    <tr>\n",
       "      <th>20</th>\n",
       "      <td>0.262569</td>\n",
       "      <td>0.903818</td>\n",
       "      <td>0.312269</td>\n",
       "      <td>0.8858</td>\n",
       "    </tr>\n",
       "    <tr>\n",
       "      <th>21</th>\n",
       "      <td>0.258341</td>\n",
       "      <td>0.906236</td>\n",
       "      <td>0.310410</td>\n",
       "      <td>0.8876</td>\n",
       "    </tr>\n",
       "    <tr>\n",
       "      <th>22</th>\n",
       "      <td>0.253951</td>\n",
       "      <td>0.908964</td>\n",
       "      <td>0.299515</td>\n",
       "      <td>0.8910</td>\n",
       "    </tr>\n",
       "    <tr>\n",
       "      <th>23</th>\n",
       "      <td>0.249710</td>\n",
       "      <td>0.908855</td>\n",
       "      <td>0.305860</td>\n",
       "      <td>0.8888</td>\n",
       "    </tr>\n",
       "    <tr>\n",
       "      <th>24</th>\n",
       "      <td>0.244313</td>\n",
       "      <td>0.912582</td>\n",
       "      <td>0.312284</td>\n",
       "      <td>0.8862</td>\n",
       "    </tr>\n",
       "    <tr>\n",
       "      <th>25</th>\n",
       "      <td>0.241094</td>\n",
       "      <td>0.912127</td>\n",
       "      <td>0.302294</td>\n",
       "      <td>0.8868</td>\n",
       "    </tr>\n",
       "    <tr>\n",
       "      <th>26</th>\n",
       "      <td>0.235720</td>\n",
       "      <td>0.915691</td>\n",
       "      <td>0.303977</td>\n",
       "      <td>0.8894</td>\n",
       "    </tr>\n",
       "    <tr>\n",
       "      <th>27</th>\n",
       "      <td>0.233148</td>\n",
       "      <td>0.915255</td>\n",
       "      <td>0.317261</td>\n",
       "      <td>0.8820</td>\n",
       "    </tr>\n",
       "    <tr>\n",
       "      <th>28</th>\n",
       "      <td>0.228764</td>\n",
       "      <td>0.918527</td>\n",
       "      <td>0.302280</td>\n",
       "      <td>0.8884</td>\n",
       "    </tr>\n",
       "    <tr>\n",
       "      <th>29</th>\n",
       "      <td>0.224828</td>\n",
       "      <td>0.919691</td>\n",
       "      <td>0.307196</td>\n",
       "      <td>0.8882</td>\n",
       "    </tr>\n",
       "  </tbody>\n",
       "</table>\n",
       "</div>"
      ],
      "text/plain": [
       "        loss  accuracy  val_loss  val_accuracy\n",
       "0   0.723706  0.764073  0.525398        0.8204\n",
       "1   0.487640  0.830000  0.432197        0.8540\n",
       "2   0.440532  0.845473  0.418031        0.8576\n",
       "3   0.414526  0.854473  0.394792        0.8620\n",
       "4   0.393439  0.860236  0.390415        0.8688\n",
       "5   0.377126  0.867200  0.371273        0.8714\n",
       "6   0.363516  0.870091  0.374829        0.8688\n",
       "7   0.351044  0.875636  0.351376        0.8772\n",
       "8   0.341332  0.878673  0.343882        0.8782\n",
       "9   0.332085  0.881218  0.359581        0.8732\n",
       "10  0.323348  0.883855  0.338391        0.8816\n",
       "11  0.315738  0.886618  0.347005        0.8760\n",
       "12  0.309396  0.888764  0.343474        0.8738\n",
       "13  0.301864  0.891873  0.358850        0.8666\n",
       "14  0.295498  0.892982  0.319346        0.8862\n",
       "15  0.289162  0.896055  0.345564        0.8766\n",
       "16  0.284167  0.897018  0.339038        0.8750\n",
       "17  0.277959  0.899145  0.337321        0.8778\n",
       "18  0.273341  0.901855  0.309674        0.8886\n",
       "19  0.268266  0.901782  0.328021        0.8804\n",
       "20  0.262569  0.903818  0.312269        0.8858\n",
       "21  0.258341  0.906236  0.310410        0.8876\n",
       "22  0.253951  0.908964  0.299515        0.8910\n",
       "23  0.249710  0.908855  0.305860        0.8888\n",
       "24  0.244313  0.912582  0.312284        0.8862\n",
       "25  0.241094  0.912127  0.302294        0.8868\n",
       "26  0.235720  0.915691  0.303977        0.8894\n",
       "27  0.233148  0.915255  0.317261        0.8820\n",
       "28  0.228764  0.918527  0.302280        0.8884\n",
       "29  0.224828  0.919691  0.307196        0.8882"
      ]
     },
     "execution_count": 29,
     "metadata": {},
     "output_type": "execute_result"
    }
   ],
   "source": [
    "import pandas as pd\n",
    "pd.DataFrame(history.history)"
   ]
  },
  {
   "cell_type": "code",
   "execution_count": 32,
   "metadata": {},
   "outputs": [
    {
     "data": {
      "text/plain": [
       "dict_keys(['loss', 'accuracy', 'val_loss', 'val_accuracy'])"
      ]
     },
     "execution_count": 32,
     "metadata": {},
     "output_type": "execute_result"
    }
   ],
   "source": [
    "history.history.keys()"
   ]
  },
  {
   "cell_type": "code",
   "execution_count": 30,
   "metadata": {},
   "outputs": [
    {
     "data": {
      "text/plain": [
       "<AxesSubplot:>"
      ]
     },
     "execution_count": 30,
     "metadata": {},
     "output_type": "execute_result"
    },
    {
     "data": {
      "image/png": "[encoded data removed]",
      "text/plain": [
       "<Figure size 576x360 with 1 Axes>"
      ]
     },
     "metadata": {
      "needs_background": "light"
     },
     "output_type": "display_data"
    }
   ],
   "source": [
    "pd.DataFrame(history.history).plot(figsize=(8, 5))"
   ]
  },
  {
   "cell_type": "code",
   "execution_count": 31,
   "metadata": {},
   "outputs": [
    {
     "name": "stdout",
     "output_type": "stream",
     "text": [
      "313/313 [==============================] - 0s 1ms/step - loss: 62.7459 - accuracy: 0.8500\n"
     ]
    },
    {
     "data": {
      "text/plain": [
       "[62.74587631225586, 0.8500000238418579]"
      ]
     },
     "execution_count": 31,
     "metadata": {},
     "output_type": "execute_result"
    }
   ],
   "source": [
    "model.evaluate(X_test, y_test)"
   ]
  },
  {
   "cell_type": "markdown",
   "metadata": {},
   "source": [
    "***"
   ]
  },
  {
   "cell_type": "code",
   "execution_count": 53,
   "metadata": {},
   "outputs": [],
   "source": [
    "X_new = X_test[:3]"
   ]
  },
  {
   "cell_type": "code",
   "execution_count": 54,
   "metadata": {},
   "outputs": [],
   "source": [
    "y_proba = model.predict(X_new)"
   ]
  },
  {
   "cell_type": "code",
   "execution_count": 55,
   "metadata": {},
   "outputs": [
    {
     "data": {
      "text/plain": [
       "array([[0., 0., 0., 0., 0., 0., 0., 0., 0., 1.],\n",
       "       [0., 0., 1., 0., 0., 0., 0., 0., 0., 0.],\n",
       "       [0., 1., 0., 0., 0., 0., 0., 0., 0., 0.]], dtype=float32)"
      ]
     },
     "execution_count": 55,
     "metadata": {},
     "output_type": "execute_result"
    }
   ],
   "source": [
    "y_proba.round(2)"
   ]
  },
  {
   "cell_type": "code",
   "execution_count": 56,
   "metadata": {},
   "outputs": [
    {
     "name": "stdout",
     "output_type": "stream",
     "text": [
      "WARNING:tensorflow:From <ipython-input-56-81ace37e545f>:1: Sequential.predict_classes (from tensorflow.python.keras.engine.sequential) is deprecated and will be removed after 2021-01-01.\n",
      "Instructions for updating:\n",
      "Please use instead:* `np.argmax(model.predict(x), axis=-1)`,   if your model does multi-class classification   (e.g. if it uses a `softmax` last-layer activation).* `(model.predict(x) > 0.5).astype(\"int32\")`,   if your model does binary classification   (e.g. if it uses a `sigmoid` last-layer activation).\n"
     ]
    },
    {
     "data": {
      "text/plain": [
       "array([9, 2, 1], dtype=int64)"
      ]
     },
     "execution_count": 56,
     "metadata": {},
     "output_type": "execute_result"
    }
   ],
   "source": [
    "y_pred = model.predict_classes(X_new)\n",
    "y_pred"
   ]
  },
  {
   "cell_type": "code",
   "execution_count": 57,
   "metadata": {},
   "outputs": [
    {
     "data": {
      "text/plain": [
       "array([9, 2, 1], dtype=int64)"
      ]
     },
     "execution_count": 57,
     "metadata": {},
     "output_type": "execute_result"
    }
   ],
   "source": [
    "import numpy as np\n",
    "y_pred = np.argmax(model.predict(X_new), axis=-1)\n",
    "y_pred"
   ]
  },
  {
   "cell_type": "code",
   "execution_count": 58,
   "metadata": {},
   "outputs": [
    {
     "data": {
      "text/plain": [
       "array(['Ankle boot', 'Pullover', 'Trouser'], dtype='<U11')"
      ]
     },
     "execution_count": 58,
     "metadata": {},
     "output_type": "execute_result"
    }
   ],
   "source": [
    "import numpy as np\n",
    "np.array(class_names)[y_pred]"
   ]
  },
  {
   "cell_type": "code",
   "execution_count": 59,
   "metadata": {},
   "outputs": [
    {
     "data": {
      "text/plain": [
       "array([9, 2, 1], dtype=uint8)"
      ]
     },
     "execution_count": 59,
     "metadata": {},
     "output_type": "execute_result"
    }
   ],
   "source": [
    "y_new = y_test[:3]\n",
    "y_new"
   ]
  },
  {
   "cell_type": "code",
   "execution_count": 60,
   "metadata": {},
   "outputs": [
    {
     "data": {
      "image/png": "[encoded data removed]",
      "text/plain": [
       "<Figure size 504x216 with 3 Axes>"
      ]
     },
     "metadata": {
      "needs_background": "light"
     },
     "output_type": "display_data"
    }
   ],
   "source": [
    "plt.figure(figsize=(7, 3))\n",
    "for index, image in enumerate(X_new):\n",
    "    plt.subplot(1, 3, index + 1)\n",
    "    plt.imshow(image, cmap=\"binary\")\n",
    "    plt.axis('off')\n",
    "    plt.title(class_names[y_test[index]], fontsize=12)\n",
    "plt.show()"
   ]
  },
  {
   "cell_type": "code",
   "execution_count": null,
   "metadata": {},
   "outputs": [],
   "source": []
  }
 ],
 "metadata": {
  "kernelspec": {
   "display_name": "Python 3",
   "language": "python",
   "name": "python3"
  },
  "language_info": {
   "codemirror_mode": {
    "name": "ipython",
    "version": 3
   },
   "file_extension": ".py",
   "mimetype": "text/x-python",
   "name": "python",
   "nbconvert_exporter": "python",
   "pygments_lexer": "ipython3",
   "version": "3.7.6"
  }
 },
 "nbformat": 4,
 "nbformat_minor": 4
}
